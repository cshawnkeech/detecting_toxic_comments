{
 "cells": [
  {
   "cell_type": "markdown",
   "metadata": {},
   "source": [
    "# Demo on Live Data\n",
    "\n",
    "We'll take a look at some tweets from the live stream and see if we can find any toxic text."
   ]
  },
  {
   "cell_type": "code",
   "execution_count": 1,
   "metadata": {
    "jupyter": {
     "source_hidden": true
    },
    "tags": []
   },
   "outputs": [],
   "source": [
    "import pandas as pd\n",
    "import numpy as np\n",
    "import os\n",
    "\n",
    "# spaCy imports\n",
    "import spacy\n",
    "from spacy.lang.en import English\n",
    "spacy_stopwords = spacy.lang.en.stop_words.STOP_WORDS\n",
    "\n",
    "from spacy.tokens import Doc\n",
    "\n",
    "# load customized spaCy model\n",
    "nlp = spacy.load(\"../models/spacy_2/\")\n",
    "\n",
    "\n",
    "import sys\n",
    "\n",
    "# add src folder to path\n",
    "sys.path.insert(1, '../src')\n",
    "\n",
    "# # custom functions\n",
    "\n",
    "# spacy helper functions\n",
    "# from text_prep import tidy_series, uppercase_proportion_column\n",
    "from spacy_helper import doc_check\n",
    "\n",
    "# twitter helper functions\n",
    "sys.path.insert(1, '../tokens')\n",
    "from twitter_stream import *\n",
    "\n",
    "\n",
    "%load_ext autoreload\n",
    "%autoreload 2\n",
    "\n",
    "# a terribly toxic text\n",
    "\n",
    "one_text = '''\n",
    "Ok, let me say it again Come on, now you guys are just being piece of shit jews. I mean you have to admit, the guys in pink floyd play their instruments about as slow as a nigger works. I shouldn't even call what they play music. It's just a bunch of alarm clocks and cashier regirsters! But you know what the most pretentious thing about them is, its their lyrics. All af their songs are just surrealist poetry sung over doom-noise pop, and everyone starts calling them genius's over it. The truth is, their songs have no meaning. Take the album 'The Wall' for instance; sure it tells a story, but what is the moral and the meaning of the story? And dont tell me that the purpose of their songs is to make you think. The only way that music as slow as pink floyd could make you fucking think is if you were just as stoned as they are, which you kikes probly are... And one last time: 1) pink floyd fucking sucks 2) david fuckmor should taste my ass 3) you should to\n",
    "'''"
   ]
  },
  {
   "cell_type": "code",
   "execution_count": 2,
   "metadata": {},
   "outputs": [],
   "source": [
    "one_text = '''\n",
    "Ok, let me say it again Come on, now you guys are just being piece of shit jews. I mean you have to admit, the guys in pink floyd play their instruments about as slow as a nigger works. I shouldn't even call what they play music. It's just a bunch of alarm clocks and cashier regirsters! But you know what the most pretentious thing about them is, its their lyrics. All af their songs are just surrealist poetry sung over doom-noise pop, and everyone starts calling them genius's over it. The truth is, their songs have no meaning. Take the album 'The Wall' for instance; sure it tells a story, but what is the moral and the meaning of the story? And dont tell me that the purpose of their songs is to make you think. The only way that music as slow as pink floyd could make you fucking think is if you were just as stoned as they are, which you kikes probly are... And one last time: 1) pink floyd fucking sucks 2) david fuckmor should taste my ass 3) you should to\n",
    "'''"
   ]
  },
  {
   "cell_type": "code",
   "execution_count": 3,
   "metadata": {
    "tags": []
   },
   "outputs": [
    {
     "data": {
      "text/plain": [
       "{'TOXIC': 0.9894261360168457,\n",
       " 'SEVERE_TOXIC': 0.007514932658523321,\n",
       " 'OBSCENE': 0.9430854916572571,\n",
       " 'THREAT': 0.007477084174752235,\n",
       " 'INSULT': 0.917741596698761,\n",
       " 'IDENTITY_HATE': 0.7508668899536133}"
      ]
     },
     "execution_count": 3,
     "metadata": {},
     "output_type": "execute_result"
    }
   ],
   "source": [
    "test_1=nlp(one_text)\n",
    "test_1.cats"
   ]
  },
  {
   "cell_type": "markdown",
   "metadata": {},
   "source": [
    "# Pull sample from live twitter feed"
   ]
  },
  {
   "cell_type": "code",
   "execution_count": 4,
   "metadata": {},
   "outputs": [],
   "source": [
    "import twitter_rules"
   ]
  },
  {
   "cell_type": "code",
   "execution_count": 5,
   "metadata": {
    "scrolled": true,
    "tags": []
   },
   "outputs": [
    {
     "name": "stdout",
     "output_type": "stream",
     "text": [
      "{\"data\": [{\"id\": \"1377806104407777282\", \"value\": \"-is:retweet (place_country:US) lang:en\"}], \"meta\": {\"sent\": \"2021-04-02T02:17:17.246Z\"}}\n",
      "{\"meta\": {\"sent\": \"2021-04-02T02:17:18.491Z\", \"summary\": {\"deleted\": 1, \"not_deleted\": 0}}}\n",
      "{\"data\": [{\"value\": \"-is:retweet (place_country:US) lang:en\", \"id\": \"1377807322358161411\"}], \"meta\": {\"sent\": \"2021-04-02T02:17:19.539Z\", \"summary\": {\"created\": 1, \"not_created\": 0, \"valid\": 1, \"invalid\": 0}}}\n",
      "200\n"
     ]
    }
   ],
   "source": [
    "# twitter_rules.main()\n",
    "tweet_list = list()\n",
    "\n",
    "twitter_rules.main(text_list=tweet_list, total_tweets=100)"
   ]
  },
  {
   "cell_type": "code",
   "execution_count": 6,
   "metadata": {
    "scrolled": true,
    "tags": []
   },
   "outputs": [
    {
     "name": "stdout",
     "output_type": "stream",
     "text": [
      "100\n"
     ]
    }
   ],
   "source": [
    "print(len(tweet_list))\n",
    "# tweet_list"
   ]
  },
  {
   "cell_type": "code",
   "execution_count": 7,
   "metadata": {
    "jupyter": {
     "source_hidden": true
    },
    "scrolled": true,
    "tags": []
   },
   "outputs": [
    {
     "name": "stdout",
     "output_type": "stream",
     "text": [
      "Tweet 0 is likely toxic.\n",
      "  It is 0.95 likely to be toxic\n",
      "  It is 0.94 likely to be obscene\n",
      "  It is 0.74 likely to be insult\n",
      "\n",
      "\n",
      "Tweet 1 is likely toxic.\n",
      "  It is 0.56 likely to be toxic\n",
      "\n",
      "\n",
      "Tweet 2 is likely toxic.\n",
      "  It is 0.97 likely to be toxic\n",
      "  It is 0.79 likely to be obscene\n",
      "\n",
      "\n",
      "Tweet 6 is likely toxic.\n",
      "  It is 0.98 likely to be toxic\n",
      "\n",
      "\n",
      "Tweet 16 is likely toxic.\n",
      "  It is 0.84 likely to be toxic\n",
      "  It is 0.56 likely to be obscene\n",
      "  It is 0.67 likely to be insult\n",
      "\n",
      "\n",
      "Tweet 21 is likely toxic.\n",
      "  It is 0.57 likely to be toxic\n",
      "\n",
      "\n",
      "Tweet 29 is likely toxic.\n",
      "  It is 0.94 likely to be toxic\n",
      "  It is 0.99 likely to be obscene\n",
      "  It is 0.94 likely to be insult\n",
      "\n",
      "\n",
      "Tweet 32 is likely toxic.\n",
      "  It is 0.92 likely to be toxic\n",
      "  It is 0.54 likely to be obscene\n",
      "\n",
      "\n",
      "Tweet 37 is likely toxic.\n",
      "  It is 0.82 likely to be toxic\n",
      "\n",
      "\n",
      "Tweet 54 is likely toxic.\n",
      "  It is 0.97 likely to be toxic\n",
      "\n",
      "\n",
      "Tweet 65 is likely toxic.\n",
      "  It is 0.9 likely to be toxic\n",
      "  It is 0.9 likely to be obscene\n",
      "\n",
      "\n",
      "Tweet 70 is likely toxic.\n",
      "  It is 0.99 likely to be toxic\n",
      "  It is 1.0 likely to be obscene\n",
      "  It is 0.93 likely to be insult\n",
      "\n",
      "\n",
      "Tweet 83 is likely toxic.\n",
      "  It is 0.81 likely to be toxic\n",
      "\n",
      "\n",
      "Tweet 89 is likely toxic.\n",
      "  It is 0.91 likely to be toxic\n",
      "\n",
      "\n",
      "Tweet 91 is likely toxic.\n",
      "  It is 0.98 likely to be toxic\n",
      "  It is 0.9 likely to be obscene\n",
      "  It is 0.98 likely to be insult\n",
      "\n",
      "\n"
     ]
    }
   ],
   "source": [
    "naughty_list = list()\n",
    "\n",
    "thresh = 0.5\n",
    "\n",
    "for i, v in enumerate(tweet_list):\n",
    "    v_doc = nlp(v)\n",
    "    \n",
    "    if v_doc.cats['TOXIC'] >= thresh:\n",
    "        print(f'Tweet {i} is likely toxic.')\n",
    "        \n",
    "        naughty_list.append(f\"{i:>5} {tweet_list[i]}\")\n",
    "        \n",
    "        for k in v_doc.cats.keys():\n",
    "        \n",
    "            if v_doc.cats[k] > 0.5:\n",
    "                print(f'  It is {v_doc.cats[k]:.2} likely to be {k.lower()}')\n",
    "        print('\\n')"
   ]
  },
  {
   "cell_type": "code",
   "execution_count": 8,
   "metadata": {
    "tags": []
   },
   "outputs": [
    {
     "name": "stdout",
     "output_type": "stream",
     "text": [
      "    0 \"@persuasionista I did that shit twice but honesty congrats to those that actually did that I simply cannot\"\n",
      "    1 \"Give Marco the Cy Young award now, it's over #GoMariners #TrueToTheBlue\"\n",
      "    2 \"#reptiles  #jafarthesnake #snakes #boalivesmatter #freemontfestival @ Seattle, Washington https://t.co/6th7vT1RBN\"\n",
      "    6 \"@Mariska @warrenleightTV @JulieMartinSVU You all are such amazing, talented, beautiful humans! I can't even describe how incredible the episode was, I just have no words \\u2764\\ufe0f\\ud83d\\udc4d\\ud83d\\ude18 #SVUxOC\"\n",
      "   16 \"at all. but i wouldn\\u2019t dare call a nigga mine who can\\u2019t even do the basics https://t.co/VQvpC0asxo\"\n",
      "   21 \"No introduction is a KEY sign of how much a person respects you. HOW they introduce you will tell you EVERYTHING needed in handling said person. #FreeGame\"\n",
      "   29 \"@8lexnicole I've resorted to fb dating bc hinge and tinder both bored me to death lol\"\n",
      "   32 \"@marcuslemonis @CampingWorld @MarcusSMI I think the speedway would look awesome with drive-up parking.  Dirt hills Porta Johns like back in the day with a huge @CampingWorld parking lot for camping.\"\n",
      "   37 \"@AOC Wow your now a politician, full of crap like the rest of them, I believe you called them  concentration camps when Trump was in office and now? Your sad\"\n",
      "   54 \"Great seeing Stabler back going after scumbags!! @Chris_Meloni @lawandordertv @WolfEnt #OC #SVUCrossover #SVUxOC #StablerReturns #Stabler\"\n",
      "   65 \"It doesn't fucking help trying to get you off my mind for a bit when every other person I see online shares the same name. Fawk.\"\n",
      "   70 \"@mackenziefield @AZCardinals @ColtMcCoy @OU_Football @TexasFootball All Gas, No brakes \\ud83d\\ude02 https://t.co/m7hIoqHals\"\n",
      "   83 \"@mcburls What a douchebag\"\n",
      "   89 \"They way she promoting that body her doctor owe her a % frfr. He did his shit tho\\ud83d\\ude4c\\ud83c\\udffe https://t.co/MYtqhcnVPq\"\n",
      "   91 \"One inning no runs???? #FireTony\"\n"
     ]
    }
   ],
   "source": [
    "for i in naughty_list:\n",
    "    print(i)"
   ]
  },
  {
   "cell_type": "code",
   "execution_count": null,
   "metadata": {},
   "outputs": [],
   "source": []
  },
  {
   "cell_type": "code",
   "execution_count": null,
   "metadata": {},
   "outputs": [],
   "source": []
  }
 ],
 "metadata": {
  "kernelspec": {
   "display_name": "Python 3",
   "language": "python",
   "name": "python3"
  },
  "language_info": {
   "codemirror_mode": {
    "name": "ipython",
    "version": 3
   },
   "file_extension": ".py",
   "mimetype": "text/x-python",
   "name": "python",
   "nbconvert_exporter": "python",
   "pygments_lexer": "ipython3",
   "version": "3.7.6"
  }
 },
 "nbformat": 4,
 "nbformat_minor": 4
}
