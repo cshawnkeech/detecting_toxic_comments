{
 "cells": [
  {
   "cell_type": "code",
   "execution_count": 1,
   "metadata": {},
   "outputs": [],
   "source": [
    "import spacy\n",
    "from spacy.lang.en import English"
   ]
  },
  {
   "cell_type": "code",
   "execution_count": 2,
   "metadata": {},
   "outputs": [],
   "source": [
    "# nlp.from_disk('../models')\n",
    "nlp = spacy.load('../models/spacy_multi_cat_model/')"
   ]
  },
  {
   "cell_type": "code",
   "execution_count": 3,
   "metadata": {},
   "outputs": [],
   "source": [
    "one_text = '''\n",
    "Ok, let me say it again Come on, now you guys are just being piece of shit jews. I mean you have to admit, the guys in pink floyd play their instruments about as slow as a nigger works. I shouldn't even call what they play music. It's just a bunch of alarm clocks and cashier regirsters! But you know what the most pretentious thing about them is, its their lyrics. All af their songs are just surrealist poetry sung over doom-noise pop, and everyone starts calling them genius's over it. The truth is, their songs have no meaning. Take the album 'The Wall' for instance; sure it tells a story, but what is the moral and the meaning of the story? And dont tell me that the purpose of their songs is to make you think. The only way that music as slow as pink floyd could make you fucking think is if you were just as stoned as they are, which you kikes probly are... And one last time: 1) pink floyd fucking sucks 2) david fuckmor should taste my ass 3) you should to\n",
    "'''\n",
    "\n"
   ]
  },
  {
   "cell_type": "code",
   "execution_count": 5,
   "metadata": {
    "tags": []
   },
   "outputs": [
    {
     "data": {
      "text/plain": [
       "{'TOXIC': 0.9894261360168457,\n",
       " 'SEVERE_TOXIC': 0.007514932658523321,\n",
       " 'OBSCENE': 0.9430854916572571,\n",
       " 'THREAT': 0.007477084174752235,\n",
       " 'INSULT': 0.917741596698761,\n",
       " 'IDENTITY_HATE': 0.7508668899536133}"
      ]
     },
     "execution_count": 5,
     "metadata": {},
     "output_type": "execute_result"
    }
   ],
   "source": [
    "doc=nlp(one_text)\n",
    "doc.cats"
   ]
  },
  {
   "cell_type": "markdown",
   "metadata": {
    "tags": []
   },
   "source": [
    "## Before 5 epochs  \n",
    "{'TOXIC': 0.9983283877372742,  \n",
    " 'SEVERE_TOXIC': 0.0003475894336588681,  \n",
    " 'OBSCENE': 0.2968767285346985,  \n",
    " 'THREAT': 0.0011758265318349004,  \n",
    " 'INSULT': 0.20628367364406586,  \n",
    " 'IDENTITY_HATE': 0.00019311188952997327}  \n"
   ]
  },
  {
   "cell_type": "markdown",
   "metadata": {
    "tags": []
   },
   "source": [
    "## After 5 epochs  \n",
    "{'TOXIC': 0.9834251999855042,  \n",
    " 'SEVERE_TOXIC': 0.07075302302837372,  \n",
    " 'OBSCENE': 0.8929150104522705,  \n",
    " 'THREAT': 0.0113288052380085,  \n",
    " 'INSULT': 0.8754300475120544,  \n",
    " 'IDENTITY_HATE': 0.3847048282623291}  "
   ]
  },
  {
   "cell_type": "markdown",
   "metadata": {},
   "source": [
    "## After 25 epochs  \n",
    "  \n",
    "{'TOXIC': 0.9894261360168457,  \n",
    " 'SEVERE_TOXIC': 0.007514932658523321,  \n",
    " 'OBSCENE': 0.9430854916572571,  \n",
    " 'THREAT': 0.007477084174752235,  \n",
    " 'INSULT': 0.917741596698761,  \n",
    " 'IDENTITY_HATE': 0.7508668899536133}  "
   ]
  },
  {
   "cell_type": "code",
   "execution_count": null,
   "metadata": {},
   "outputs": [],
   "source": []
  }
 ],
 "metadata": {
  "kernelspec": {
   "display_name": "Python 3",
   "language": "python",
   "name": "python3"
  },
  "language_info": {
   "codemirror_mode": {
    "name": "ipython",
    "version": 3
   },
   "file_extension": ".py",
   "mimetype": "text/x-python",
   "name": "python",
   "nbconvert_exporter": "python",
   "pygments_lexer": "ipython3",
   "version": "3.7.6"
  }
 },
 "nbformat": 4,
 "nbformat_minor": 4
}
